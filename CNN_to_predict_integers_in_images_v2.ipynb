{
  "nbformat": 4,
  "nbformat_minor": 0,
  "metadata": {
    "colab": {
      "name": "CNN to predict integers in images_v2.ipynb",
      "version": "0.3.2",
      "provenance": [],
      "collapsed_sections": [],
      "include_colab_link": true
    },
    "kernelspec": {
      "name": "python3",
      "display_name": "Python 3"
    },
    "accelerator": "GPU"
  },
  "cells": [
    {
      "cell_type": "markdown",
      "metadata": {
        "id": "view-in-github",
        "colab_type": "text"
      },
      "source": [
        "<a href=\"https://colab.research.google.com/github/surfaceowl/google.colab_machinelearning/blob/master/CNN_to_predict_integers_in_images_v2.ipynb\" target=\"_parent\"><img src=\"https://colab.research.google.com/assets/colab-badge.svg\" alt=\"Open In Colab\"/></a>"
      ]
    },
    {
      "metadata": {
        "id": "79V-wQfCYB3M",
        "colab_type": "code",
        "colab": {
          "base_uri": "https://localhost:8080/",
          "height": 34
        },
        "outputId": "5e16a650-8d0e-47a0-c1d5-3022adf4e11d"
      },
      "cell_type": "code",
      "source": [
        "import tensorflow as tf\n",
        "device_name = tf.test.gpu_device_name()\n",
        "if device_name != '/device:GPU:0':\n",
        "  raise SystemError('GPU device not found')\n",
        "print('Found GPU at: {}'.format(device_name))"
      ],
      "execution_count": 1,
      "outputs": [
        {
          "output_type": "stream",
          "text": [
            "Found GPU at: /device:GPU:0\n"
          ],
          "name": "stdout"
        }
      ]
    },
    {
      "metadata": {
        "id": "3vUMV6xAhtCO",
        "colab_type": "code",
        "colab": {}
      },
      "cell_type": "code",
      "source": [
        "# snippet for uploading local files to colab\n",
        "# from google.colab import files\n",
        "# uploaded = files.upload()"
      ],
      "execution_count": 0,
      "outputs": []
    },
    {
      "metadata": {
        "id": "JVL6Bxgjhw1k",
        "colab_type": "code",
        "colab": {
          "base_uri": "https://localhost:8080/",
          "height": 170
        },
        "outputId": "3aa4028c-9e94-45a4-ca4a-74b94c1d1c47"
      },
      "cell_type": "code",
      "source": [
        "# # colab does not persist local libraries, so we have to reinstall; colab requires prefix of `!`\n",
        "!pip install numpy\n",
        "!pip install matplotlib\n",
        "!pip install seaborn"
      ],
      "execution_count": 3,
      "outputs": [
        {
          "output_type": "stream",
          "text": [
            "Requirement already satisfied: numpy in /usr/local/lib/python3.6/dist-packages (1.14.6)\n",
            "Requirement already satisfied: matplotlib in /usr/local/lib/python3.6/dist-packages (2.1.2)\n",
            "Requirement already satisfied: pytz in /usr/local/lib/python3.6/dist-packages (from matplotlib) (2018.7)\n",
            "Requirement already satisfied: numpy>=1.7.1 in /usr/local/lib/python3.6/dist-packages (from matplotlib) (1.14.6)\n",
            "Requirement already satisfied: cycler>=0.10 in /usr/local/lib/python3.6/dist-packages (from matplotlib) (0.10.0)\n",
            "Requirement already satisfied: pyparsing!=2.0.4,!=2.1.2,!=2.1.6,>=2.0.1 in /usr/local/lib/python3.6/dist-packages (from matplotlib) (2.3.0)\n",
            "Requirement already satisfied: python-dateutil>=2.1 in /usr/local/lib/python3.6/dist-packages (from matplotlib) (2.5.3)\n",
            "Requirement already satisfied: six>=1.10 in /usr/local/lib/python3.6/dist-packages (from matplotlib) (1.11.0)\n",
            "Requirement already satisfied: seaborn in /usr/local/lib/python3.6/dist-packages (0.7.1)\n"
          ],
          "name": "stdout"
        }
      ]
    },
    {
      "metadata": {
        "id": "MtYh_DnHhzV8",
        "colab_type": "code",
        "colab": {
          "base_uri": "https://localhost:8080/",
          "height": 17
        },
        "outputId": "a6eecac0-da72-4288-f35a-c419a88c7f5c"
      },
      "cell_type": "code",
      "source": [
        "# import core python libraries for analysis\n",
        "import pandas as pd\n",
        "import numpy as np\n",
        "\n",
        "# import graphics\n",
        "import matplotlib.pyplot as plt\n",
        "import matplotlib.dates as mdates\n",
        "%matplotlib inline\n",
        "from IPython.core.display import display, HTML\n",
        "display(HTML(\"<style>.container { width:100% !important; }</style>\"))\n",
        "\n",
        "# enable multiple outputs per cell \n",
        "from IPython.core.interactiveshell import InteractiveShell\n",
        "InteractiveShell.ast_node_interactivity = \"all\""
      ],
      "execution_count": 4,
      "outputs": [
        {
          "output_type": "display_data",
          "data": {
            "text/html": [
              "<style>.container { width:100% !important; }</style>"
            ],
            "text/plain": [
              "<IPython.core.display.HTML object>"
            ]
          },
          "metadata": {
            "tags": []
          }
        }
      ]
    },
    {
      "metadata": {
        "id": "c50_zWQIh0D2",
        "colab_type": "code",
        "colab": {}
      },
      "cell_type": "code",
      "source": [
        "# import machine learning\n",
        "import tensorflow as tf"
      ],
      "execution_count": 0,
      "outputs": []
    },
    {
      "metadata": {
        "id": "ahPF68FAh3Ad",
        "colab_type": "code",
        "colab": {
          "base_uri": "https://localhost:8080/",
          "height": 391
        },
        "outputId": "22349bb1-a752-4e8d-926e-262fe4623baa"
      },
      "cell_type": "code",
      "source": [
        "# Import MNIST dataset\n",
        "from tensorflow.examples.tutorials.mnist import input_data\n",
        "\n",
        "mnist = input_data.read_data_sets(\"MNIST_data/\", one_hot=True)"
      ],
      "execution_count": 6,
      "outputs": [
        {
          "output_type": "stream",
          "text": [
            "WARNING:tensorflow:From <ipython-input-6-5c81c5f4c9da>:3: read_data_sets (from tensorflow.contrib.learn.python.learn.datasets.mnist) is deprecated and will be removed in a future version.\n",
            "Instructions for updating:\n",
            "Please use alternatives such as official/mnist/dataset.py from tensorflow/models.\n",
            "WARNING:tensorflow:From /usr/local/lib/python3.6/dist-packages/tensorflow/contrib/learn/python/learn/datasets/mnist.py:260: maybe_download (from tensorflow.contrib.learn.python.learn.datasets.base) is deprecated and will be removed in a future version.\n",
            "Instructions for updating:\n",
            "Please write your own downloading logic.\n",
            "WARNING:tensorflow:From /usr/local/lib/python3.6/dist-packages/tensorflow/contrib/learn/python/learn/datasets/mnist.py:262: extract_images (from tensorflow.contrib.learn.python.learn.datasets.mnist) is deprecated and will be removed in a future version.\n",
            "Instructions for updating:\n",
            "Please use tf.data to implement this functionality.\n",
            "Extracting MNIST_data/train-images-idx3-ubyte.gz\n",
            "WARNING:tensorflow:From /usr/local/lib/python3.6/dist-packages/tensorflow/contrib/learn/python/learn/datasets/mnist.py:267: extract_labels (from tensorflow.contrib.learn.python.learn.datasets.mnist) is deprecated and will be removed in a future version.\n",
            "Instructions for updating:\n",
            "Please use tf.data to implement this functionality.\n",
            "Extracting MNIST_data/train-labels-idx1-ubyte.gz\n",
            "WARNING:tensorflow:From /usr/local/lib/python3.6/dist-packages/tensorflow/contrib/learn/python/learn/datasets/mnist.py:110: dense_to_one_hot (from tensorflow.contrib.learn.python.learn.datasets.mnist) is deprecated and will be removed in a future version.\n",
            "Instructions for updating:\n",
            "Please use tf.one_hot on tensors.\n",
            "Extracting MNIST_data/t10k-images-idx3-ubyte.gz\n",
            "Extracting MNIST_data/t10k-labels-idx1-ubyte.gz\n",
            "WARNING:tensorflow:From /usr/local/lib/python3.6/dist-packages/tensorflow/contrib/learn/python/learn/datasets/mnist.py:290: DataSet.__init__ (from tensorflow.contrib.learn.python.learn.datasets.mnist) is deprecated and will be removed in a future version.\n",
            "Instructions for updating:\n",
            "Please use alternatives such as official/mnist/dataset.py from tensorflow/models.\n"
          ],
          "name": "stdout"
        }
      ]
    },
    {
      "metadata": {
        "id": "1-jC4UZRh5NB",
        "colab_type": "code",
        "colab": {}
      },
      "cell_type": "code",
      "source": [
        "n_train = mnist.train.num_examples # 55,000\n",
        "n_validation = mnist.validation.num_examples # 5000\n",
        "n_test = mnist.test.num_examples # 10,000"
      ],
      "execution_count": 0,
      "outputs": []
    },
    {
      "metadata": {
        "id": "nZgXRhhYiG_5",
        "colab_type": "code",
        "colab": {}
      },
      "cell_type": "code",
      "source": [
        "# define neural network architecture\n",
        "n_input = 784   # input layer (28x28 pixels)\n",
        "n_hidden1 = 512 # 1st hidden layer\n",
        "n_hidden2 = 256 # 2nd hidden layer\n",
        "n_hidden3 = 128 # 3rd hidden layer\n",
        "n_output = 10   # output layer (0-9 digits)\n",
        "\n",
        "learning_rate = 1e-4\n",
        "n_iterations = 10000\n",
        "batch_size = 128\n",
        "dropout = 0.5"
      ],
      "execution_count": 0,
      "outputs": []
    },
    {
      "metadata": {
        "id": "-ZBQJzbkiQ6i",
        "colab_type": "code",
        "colab": {}
      },
      "cell_type": "code",
      "source": [
        "X = tf.placeholder(\"float\", [None, n_input])\n",
        "Y = tf.placeholder(\"float\", [None, n_output])\n",
        "keep_prob = tf.placeholder(tf.float32) "
      ],
      "execution_count": 0,
      "outputs": []
    },
    {
      "metadata": {
        "id": "SdgBU0H8iVWx",
        "colab_type": "code",
        "colab": {}
      },
      "cell_type": "code",
      "source": [
        "# define weights & biases\n",
        "weights = {\n",
        "    'w1': tf.Variable(tf.truncated_normal([n_input, n_hidden1], stddev=0.1)),\n",
        "    'w2': tf.Variable(tf.truncated_normal([n_hidden1, n_hidden2], stddev=0.1)),\n",
        "    'w3': tf.Variable(tf.truncated_normal([n_hidden2, n_hidden3], stddev=0.1)),\n",
        "    'out': tf.Variable(tf.truncated_normal([n_hidden3, n_output], stddev=0.1)),\n",
        "}\n",
        "\n",
        "\n",
        "biases = {\n",
        "    'b1': tf.Variable(tf.constant(0.1, shape=[n_hidden1])),\n",
        "    'b2': tf.Variable(tf.constant(0.1, shape=[n_hidden2])),\n",
        "    'b3': tf.Variable(tf.constant(0.1, shape=[n_hidden3])),\n",
        "    'out': tf.Variable(tf.constant(0.1, shape=[n_output]))\n",
        "}"
      ],
      "execution_count": 0,
      "outputs": []
    },
    {
      "metadata": {
        "id": "9hjPbosHixYE",
        "colab_type": "code",
        "colab": {}
      },
      "cell_type": "code",
      "source": [
        "# setup each of the layers\n",
        "layer_1 = tf.add(tf.matmul(X, weights['w1']), biases['b1'])\n",
        "layer_2 = tf.add(tf.matmul(layer_1, weights['w2']), biases['b2'])\n",
        "layer_3 = tf.add(tf.matmul(layer_2, weights['w3']), biases['b3'])\n",
        "layer_drop = tf.nn.dropout(layer_3, keep_prob)\n",
        "output_layer = tf.matmul(layer_3, weights['out']) + biases['out']"
      ],
      "execution_count": 0,
      "outputs": []
    },
    {
      "metadata": {
        "id": "qNOJcQqAuapI",
        "colab_type": "code",
        "colab": {
          "base_uri": "https://localhost:8080/",
          "height": 153
        },
        "outputId": "f4e42313-806a-47cc-8ef7-99cd659a7f58"
      },
      "cell_type": "code",
      "source": [
        "# setup gradient descent; use tensorflows AdamOptimizer which speeds up convergence by using momentum of descent\n",
        "cross_entropy = tf.reduce_mean(tf.nn.softmax_cross_entropy_with_logits(labels=Y, logits=output_layer))\n",
        "train_step = tf.train.AdamOptimizer(1e-4).minimize(cross_entropy)"
      ],
      "execution_count": 12,
      "outputs": [
        {
          "output_type": "stream",
          "text": [
            "WARNING:tensorflow:From <ipython-input-12-812430f7e244>:1: softmax_cross_entropy_with_logits (from tensorflow.python.ops.nn_ops) is deprecated and will be removed in a future version.\n",
            "Instructions for updating:\n",
            "\n",
            "Future major versions of TensorFlow will allow gradients to flow\n",
            "into the labels input on backprop by default.\n",
            "\n",
            "See `tf.nn.softmax_cross_entropy_with_logits_v2`.\n",
            "\n"
          ],
          "name": "stdout"
        }
      ]
    },
    {
      "metadata": {
        "id": "_Lrm-2_huqin",
        "colab_type": "code",
        "colab": {}
      },
      "cell_type": "code",
      "source": [
        "# Training & Testing\n",
        "correct_pred = tf.equal(tf.argmax(output_layer, 1), tf.argmax(Y, 1))\n",
        "accuracy = tf.reduce_mean(tf.cast(correct_pred, tf.float32))"
      ],
      "execution_count": 0,
      "outputs": []
    },
    {
      "metadata": {
        "id": "S3oZeRvcuxf7",
        "colab_type": "code",
        "colab": {
          "base_uri": "https://localhost:8080/",
          "height": 1717
        },
        "outputId": "19ddb3d5-411e-4f0d-9a8e-bf56243c7840"
      },
      "cell_type": "code",
      "source": [
        "# initialize and run model\n",
        "\n",
        "init = tf.global_variables_initializer()\n",
        "sess = tf.Session()\n",
        "sess.run(init)\n",
        "\n",
        "# train on mini batches\n",
        "for i in range(n_iterations):\n",
        "    batch_x, batch_y = mnist.train.next_batch(batch_size)\n",
        "    sess.run(train_step, feed_dict={X: batch_x, Y: batch_y, keep_prob:dropout})\n",
        "\n",
        "    # print loss and accuracy (per minibatch)\n",
        "    if i%100==0:\n",
        "        minibatch_loss, minibatch_accuracy = sess.run([cross_entropy, accuracy], feed_dict={X: batch_x, Y: batch_y, keep_prob:1.0})\n",
        "        print(\"Iteration\", str(i), \"\\t| Loss =\", str(minibatch_loss), \"\\t| Accuracy =\", str(minibatch_accuracy))"
      ],
      "execution_count": 14,
      "outputs": [
        {
          "output_type": "stream",
          "text": [
            "Iteration 0 \t| Loss = 3.2211995 \t| Accuracy = 0.125\n",
            "Iteration 100 \t| Loss = 0.5629972 \t| Accuracy = 0.859375\n",
            "Iteration 200 \t| Loss = 0.40736264 \t| Accuracy = 0.8671875\n",
            "Iteration 300 \t| Loss = 0.27514684 \t| Accuracy = 0.9140625\n",
            "Iteration 400 \t| Loss = 0.50883615 \t| Accuracy = 0.8671875\n",
            "Iteration 500 \t| Loss = 0.27862448 \t| Accuracy = 0.90625\n",
            "Iteration 600 \t| Loss = 0.4364797 \t| Accuracy = 0.8828125\n",
            "Iteration 700 \t| Loss = 0.2810396 \t| Accuracy = 0.8984375\n",
            "Iteration 800 \t| Loss = 0.2504645 \t| Accuracy = 0.9296875\n",
            "Iteration 900 \t| Loss = 0.3062001 \t| Accuracy = 0.921875\n",
            "Iteration 1000 \t| Loss = 0.22203273 \t| Accuracy = 0.9296875\n",
            "Iteration 1100 \t| Loss = 0.25439376 \t| Accuracy = 0.9296875\n",
            "Iteration 1200 \t| Loss = 0.2426521 \t| Accuracy = 0.921875\n",
            "Iteration 1300 \t| Loss = 0.17592339 \t| Accuracy = 0.953125\n",
            "Iteration 1400 \t| Loss = 0.3339944 \t| Accuracy = 0.9375\n",
            "Iteration 1500 \t| Loss = 0.2163752 \t| Accuracy = 0.9375\n",
            "Iteration 1600 \t| Loss = 0.5949689 \t| Accuracy = 0.8828125\n",
            "Iteration 1700 \t| Loss = 0.13663308 \t| Accuracy = 0.9609375\n",
            "Iteration 1800 \t| Loss = 0.21642649 \t| Accuracy = 0.9140625\n",
            "Iteration 1900 \t| Loss = 0.12664655 \t| Accuracy = 0.9609375\n",
            "Iteration 2000 \t| Loss = 0.21639737 \t| Accuracy = 0.96875\n",
            "Iteration 2100 \t| Loss = 0.37408036 \t| Accuracy = 0.8828125\n",
            "Iteration 2200 \t| Loss = 0.1732657 \t| Accuracy = 0.953125\n",
            "Iteration 2300 \t| Loss = 0.3577307 \t| Accuracy = 0.921875\n",
            "Iteration 2400 \t| Loss = 0.2577297 \t| Accuracy = 0.9296875\n",
            "Iteration 2500 \t| Loss = 0.382218 \t| Accuracy = 0.9140625\n",
            "Iteration 2600 \t| Loss = 0.40864506 \t| Accuracy = 0.875\n",
            "Iteration 2700 \t| Loss = 0.31195635 \t| Accuracy = 0.890625\n",
            "Iteration 2800 \t| Loss = 0.1612182 \t| Accuracy = 0.9375\n",
            "Iteration 2900 \t| Loss = 0.16464464 \t| Accuracy = 0.9375\n",
            "Iteration 3000 \t| Loss = 0.21784386 \t| Accuracy = 0.921875\n",
            "Iteration 3100 \t| Loss = 0.31604353 \t| Accuracy = 0.890625\n",
            "Iteration 3200 \t| Loss = 0.116651714 \t| Accuracy = 0.984375\n",
            "Iteration 3300 \t| Loss = 0.3065413 \t| Accuracy = 0.8671875\n",
            "Iteration 3400 \t| Loss = 0.1634162 \t| Accuracy = 0.953125\n",
            "Iteration 3500 \t| Loss = 0.2999686 \t| Accuracy = 0.8984375\n",
            "Iteration 3600 \t| Loss = 0.33364806 \t| Accuracy = 0.9375\n",
            "Iteration 3700 \t| Loss = 0.19487838 \t| Accuracy = 0.9140625\n",
            "Iteration 3800 \t| Loss = 0.112314254 \t| Accuracy = 0.96875\n",
            "Iteration 3900 \t| Loss = 0.1103901 \t| Accuracy = 0.9609375\n",
            "Iteration 4000 \t| Loss = 0.22159672 \t| Accuracy = 0.9296875\n",
            "Iteration 4100 \t| Loss = 0.2683199 \t| Accuracy = 0.921875\n",
            "Iteration 4200 \t| Loss = 0.14175457 \t| Accuracy = 0.953125\n",
            "Iteration 4300 \t| Loss = 0.27328584 \t| Accuracy = 0.9296875\n",
            "Iteration 4400 \t| Loss = 0.3511938 \t| Accuracy = 0.9296875\n",
            "Iteration 4500 \t| Loss = 0.2190888 \t| Accuracy = 0.921875\n",
            "Iteration 4600 \t| Loss = 0.20890881 \t| Accuracy = 0.953125\n",
            "Iteration 4700 \t| Loss = 0.1656803 \t| Accuracy = 0.921875\n",
            "Iteration 4800 \t| Loss = 0.26701766 \t| Accuracy = 0.9609375\n",
            "Iteration 4900 \t| Loss = 0.15249676 \t| Accuracy = 0.9375\n",
            "Iteration 5000 \t| Loss = 0.31288248 \t| Accuracy = 0.90625\n",
            "Iteration 5100 \t| Loss = 0.3537598 \t| Accuracy = 0.90625\n",
            "Iteration 5200 \t| Loss = 0.20480958 \t| Accuracy = 0.96875\n",
            "Iteration 5300 \t| Loss = 0.14113751 \t| Accuracy = 0.96875\n",
            "Iteration 5400 \t| Loss = 0.23218805 \t| Accuracy = 0.953125\n",
            "Iteration 5500 \t| Loss = 0.3319304 \t| Accuracy = 0.8984375\n",
            "Iteration 5600 \t| Loss = 0.19971356 \t| Accuracy = 0.921875\n",
            "Iteration 5700 \t| Loss = 0.20115533 \t| Accuracy = 0.9296875\n",
            "Iteration 5800 \t| Loss = 0.31916893 \t| Accuracy = 0.921875\n",
            "Iteration 5900 \t| Loss = 0.22801624 \t| Accuracy = 0.9296875\n",
            "Iteration 6000 \t| Loss = 0.2769736 \t| Accuracy = 0.9375\n",
            "Iteration 6100 \t| Loss = 0.20550758 \t| Accuracy = 0.9453125\n",
            "Iteration 6200 \t| Loss = 0.45553315 \t| Accuracy = 0.890625\n",
            "Iteration 6300 \t| Loss = 0.18188496 \t| Accuracy = 0.9375\n",
            "Iteration 6400 \t| Loss = 0.24006352 \t| Accuracy = 0.9296875\n",
            "Iteration 6500 \t| Loss = 0.1857294 \t| Accuracy = 0.9453125\n",
            "Iteration 6600 \t| Loss = 0.296185 \t| Accuracy = 0.90625\n",
            "Iteration 6700 \t| Loss = 0.17847171 \t| Accuracy = 0.953125\n",
            "Iteration 6800 \t| Loss = 0.17187363 \t| Accuracy = 0.9453125\n",
            "Iteration 6900 \t| Loss = 0.14501458 \t| Accuracy = 0.9453125\n",
            "Iteration 7000 \t| Loss = 0.26318395 \t| Accuracy = 0.9375\n",
            "Iteration 7100 \t| Loss = 0.2796046 \t| Accuracy = 0.890625\n",
            "Iteration 7200 \t| Loss = 0.2307642 \t| Accuracy = 0.9453125\n",
            "Iteration 7300 \t| Loss = 0.17552912 \t| Accuracy = 0.96875\n",
            "Iteration 7400 \t| Loss = 0.26215547 \t| Accuracy = 0.9140625\n",
            "Iteration 7500 \t| Loss = 0.12178905 \t| Accuracy = 0.96875\n",
            "Iteration 7600 \t| Loss = 0.09365193 \t| Accuracy = 0.9765625\n",
            "Iteration 7700 \t| Loss = 0.18819818 \t| Accuracy = 0.9765625\n",
            "Iteration 7800 \t| Loss = 0.13481504 \t| Accuracy = 0.9609375\n",
            "Iteration 7900 \t| Loss = 0.23905304 \t| Accuracy = 0.9296875\n",
            "Iteration 8000 \t| Loss = 0.34468603 \t| Accuracy = 0.90625\n",
            "Iteration 8100 \t| Loss = 0.17609248 \t| Accuracy = 0.9453125\n",
            "Iteration 8200 \t| Loss = 0.43092847 \t| Accuracy = 0.921875\n",
            "Iteration 8300 \t| Loss = 0.37830305 \t| Accuracy = 0.90625\n",
            "Iteration 8400 \t| Loss = 0.21030006 \t| Accuracy = 0.9375\n",
            "Iteration 8500 \t| Loss = 0.19435087 \t| Accuracy = 0.953125\n",
            "Iteration 8600 \t| Loss = 0.22151491 \t| Accuracy = 0.9296875\n",
            "Iteration 8700 \t| Loss = 0.2377176 \t| Accuracy = 0.9296875\n",
            "Iteration 8800 \t| Loss = 0.24628994 \t| Accuracy = 0.9140625\n",
            "Iteration 8900 \t| Loss = 0.32736114 \t| Accuracy = 0.9375\n",
            "Iteration 9000 \t| Loss = 0.16432768 \t| Accuracy = 0.953125\n",
            "Iteration 9100 \t| Loss = 0.32052392 \t| Accuracy = 0.8984375\n",
            "Iteration 9200 \t| Loss = 0.22787604 \t| Accuracy = 0.9375\n",
            "Iteration 9300 \t| Loss = 0.2735284 \t| Accuracy = 0.9296875\n",
            "Iteration 9400 \t| Loss = 0.18249753 \t| Accuracy = 0.9609375\n",
            "Iteration 9500 \t| Loss = 0.23080197 \t| Accuracy = 0.9375\n",
            "Iteration 9600 \t| Loss = 0.33981884 \t| Accuracy = 0.921875\n",
            "Iteration 9700 \t| Loss = 0.22720481 \t| Accuracy = 0.9296875\n",
            "Iteration 9800 \t| Loss = 0.19056274 \t| Accuracy = 0.953125\n",
            "Iteration 9900 \t| Loss = 0.3237276 \t| Accuracy = 0.9375\n"
          ],
          "name": "stdout"
        }
      ]
    },
    {
      "metadata": {
        "id": "uGn6ybfJvFUs",
        "colab_type": "code",
        "colab": {
          "base_uri": "https://localhost:8080/",
          "height": 51
        },
        "outputId": "f2bcf868-0fd5-4070-e97f-d8cf6fe89445"
      },
      "cell_type": "code",
      "source": [
        "# now let's run the model on test images\n",
        "# set keep_prob to 1.0, so we keep all units in the network\n",
        "test_accuracy = sess.run(accuracy, feed_dict={X: mnist.test.images, Y: mnist.test.labels, keep_prob:1.0})\n",
        "print(\"\\nAccuracy on test set:\", test_accuracy)"
      ],
      "execution_count": 15,
      "outputs": [
        {
          "output_type": "stream",
          "text": [
            "\n",
            "Accuracy on test set: 0.9221\n"
          ],
          "name": "stdout"
        }
      ]
    },
    {
      "metadata": {
        "id": "MsGPxOs3vXSq",
        "colab_type": "code",
        "colab": {}
      },
      "cell_type": "code",
      "source": [
        "import numpy as np\n",
        "from PIL import Image\n",
        "import random           # for selecting random images later"
      ],
      "execution_count": 0,
      "outputs": []
    },
    {
      "metadata": {
        "id": "8srEspx7x7eS",
        "colab_type": "code",
        "colab": {
          "base_uri": "https://localhost:8080/",
          "height": 2161
        },
        "outputId": "ed7dd8a7-52cf-4b7f-af9b-4d0ed130f2c5"
      },
      "cell_type": "code",
      "source": [
        "# pick random image from the entire set, display image and our prediction\n",
        "n_images_to_show=7\n",
        "\n",
        "# Get images from test set\n",
        "test_images_totalnum = len(mnist.test.images)\n",
        "test_images = mnist.test.images\n",
        "\n",
        "print(\"We have \",test_images_totalnum , \" images to work with.\\n\\n\")\n",
        "\n",
        "for i in range(n_images_to_show):\n",
        "    image_to_pick = random.randint(1,test_images_totalnum)\n",
        "    \n",
        "    img = np.reshape(test_images[image_to_pick], [28, 28])\n",
        "   \n",
        "    plt.imshow(np.reshape(test_images[image_to_pick], [28, 28]), cmap='gray')\n",
        "    plt.show()\n",
        "    \n",
        "    img_flat = img.flatten().reshape(784)\n",
        "    \n",
        "    prediction = sess.run(tf.argmax(output_layer,1), feed_dict={X: [img_flat]})\n",
        "    print (\"            Prediction for test image:\", np.squeeze(prediction), \"\\n\")"
      ],
      "execution_count": 34,
      "outputs": [
        {
          "output_type": "stream",
          "text": [
            "We have  10000  images to work with.\n",
            "\n",
            "\n"
          ],
          "name": "stdout"
        },
        {
          "output_type": "execute_result",
          "data": {
            "text/plain": [
              "<matplotlib.image.AxesImage at 0x7fba14ea4860>"
            ]
          },
          "metadata": {
            "tags": []
          },
          "execution_count": 34
        },
        {
          "output_type": "display_data",
          "data": {
            "image/png": "[encoded data removed]",
            "text/plain": [
              "<matplotlib.figure.Figure at 0x7fba15440f98>"
            ]
          },
          "metadata": {
            "tags": []
          }
        },
        {
          "output_type": "stream",
          "text": [
            "            Prediction for test image: 5 \n",
            "\n"
          ],
          "name": "stdout"
        },
        {
          "output_type": "execute_result",
          "data": {
            "text/plain": [
              "<matplotlib.image.AxesImage at 0x7fba14e01d30>"
            ]
          },
          "metadata": {
            "tags": []
          },
          "execution_count": 34
        },
        {
          "output_type": "display_data",
          "data": {
            "image/png": "[encoded data removed]",
            "text/plain": [
              "<matplotlib.figure.Figure at 0x7fba14ecbac8>"
            ]
          },
          "metadata": {
            "tags": []
          }
        },
        {
          "output_type": "stream",
          "text": [
            "            Prediction for test image: 9 \n",
            "\n"
          ],
          "name": "stdout"
        },
        {
          "output_type": "execute_result",
          "data": {
            "text/plain": [
              "<matplotlib.image.AxesImage at 0x7fba14de61d0>"
            ]
          },
          "metadata": {
            "tags": []
          },
          "execution_count": 34
        },
        {
          "output_type": "display_data",
          "data": {
            "image/png": "[encoded data removed]",
            "text/plain": [
              "<matplotlib.figure.Figure at 0x7fba14df5630>"
            ]
          },
          "metadata": {
            "tags": []
          }
        },
        {
          "output_type": "stream",
          "text": [
            "            Prediction for test image: 0 \n",
            "\n"
          ],
          "name": "stdout"
        },
        {
          "output_type": "execute_result",
          "data": {
            "text/plain": [
              "<matplotlib.image.AxesImage at 0x7fba14d45780>"
            ]
          },
          "metadata": {
            "tags": []
          },
          "execution_count": 34
        },
        {
          "output_type": "display_data",
          "data": {
            "image/png": "[encoded data removed]",
            "text/plain": [
              "<matplotlib.figure.Figure at 0x7fba14dd24e0>"
            ]
          },
          "metadata": {
            "tags": []
          }
        },
        {
          "output_type": "stream",
          "text": [
            "            Prediction for test image: 6 \n",
            "\n"
          ],
          "name": "stdout"
        },
        {
          "output_type": "execute_result",
          "data": {
            "text/plain": [
              "<matplotlib.image.AxesImage at 0x7fba14d23c88>"
            ]
          },
          "metadata": {
            "tags": []
          },
          "execution_count": 34
        },
        {
          "output_type": "display_data",
          "data": {
            "image/png": "[encoded data removed]",
            "text/plain": [
              "<matplotlib.figure.Figure at 0x7fba14da12b0>"
            ]
          },
          "metadata": {
            "tags": []
          }
        },
        {
          "output_type": "stream",
          "text": [
            "            Prediction for test image: 6 \n",
            "\n"
          ],
          "name": "stdout"
        },
        {
          "output_type": "execute_result",
          "data": {
            "text/plain": [
              "<matplotlib.image.AxesImage at 0x7fba14c8b1d0>"
            ]
          },
          "metadata": {
            "tags": []
          },
          "execution_count": 34
        },
        {
          "output_type": "display_data",
          "data": {
            "image/png": "[encoded data removed]",
            "text/plain": [
              "<matplotlib.figure.Figure at 0x7fba14d035c0>"
            ]
          },
          "metadata": {
            "tags": []
          }
        },
        {
          "output_type": "stream",
          "text": [
            "            Prediction for test image: 1 \n",
            "\n"
          ],
          "name": "stdout"
        },
        {
          "output_type": "execute_result",
          "data": {
            "text/plain": [
              "<matplotlib.image.AxesImage at 0x7fba14be86d8>"
            ]
          },
          "metadata": {
            "tags": []
          },
          "execution_count": 34
        },
        {
          "output_type": "display_data",
          "data": {
            "image/png": "[encoded data removed]",
            "text/plain": [
              "<matplotlib.figure.Figure at 0x7fba14c70630>"
            ]
          },
          "metadata": {
            "tags": []
          }
        },
        {
          "output_type": "stream",
          "text": [
            "            Prediction for test image: 0 \n",
            "\n"
          ],
          "name": "stdout"
        }
      ]
    },
    {
      "metadata": {
        "id": "IudswYDOzx1v",
        "colab_type": "code",
        "colab": {
          "base_uri": "https://localhost:8080/",
          "height": 34
        },
        "outputId": "a0e04a9e-7534-4df2-865c-fce766391070"
      },
      "cell_type": "code",
      "source": [
        "\n",
        "image_to_pick"
      ],
      "execution_count": 27,
      "outputs": [
        {
          "output_type": "execute_result",
          "data": {
            "text/plain": [
              "9622"
            ]
          },
          "metadata": {
            "tags": []
          },
          "execution_count": 27
        }
      ]
    }
  ]
}